{
  "nbformat": 4,
  "nbformat_minor": 0,
  "metadata": {
    "colab": {
      "provenance": []
    },
    "kernelspec": {
      "name": "python3",
      "display_name": "Python 3"
    },
    "language_info": {
      "name": "python"
    }
  },
  "cells": [
    {
      "cell_type": "markdown",
      "source": [
        "# State class\n",
        "틱택토 상태를 나타낼 수 있는 class를 만들어 주세요.\n",
        "\n",
        "- 2명의 플레이어가 있고, 각 플레이어의 수가 뭔지 식별가능해야 합니다.  \n",
        "\n",
        "**꼭 구현해야할 매소드(주니어/시니어 공통)**\n",
        "- 둘 수 있는 위치가 어딘지 알려주는 함수\n",
        "- win / lose / draw를 식별해주는 함수\n",
        "- render 함수\n",
        "\n",
        "**min-max algorithm / alpha-beta algorithm 구현(시니어)**\n",
        "\n",
        "### 🚨 만약 감이 안 온다면 운영진에게 연락주시면 참고할 만한 레퍼런스를 보내드리겠습니다.\n",
        "### 🚨 참고한 레퍼런스가 있다면, 출처를 남겨주세요."
      ],
      "metadata": {
        "id": "aOdETJG1a4Ok"
      }
    },
    {
      "cell_type": "code",
      "source": [
        "class TicTacToeState:\n",
        "    def __init__(self):\n",
        "        # 3 x 3 보드를 초기화\n",
        "        self.board = [[None for _ in range(3)] for _ in range(3)]\n",
        "        self.current_player = 'X'\n",
        "\n",
        "    def render(self): # 현재 상태 출력\n",
        "        for i, row in enumerate(self.board):\n",
        "            row_display = [cell if cell is not None else ' ' for cell in row]\n",
        "            print(\"|\".join(row_display))\n",
        "            if i < 2:\n",
        "                print(\"---+---+---\")\n",
        "\n",
        "    def available_positions(self):\n",
        "        return [(i, j) for i in range(3) for j in range(3) if self.board[i][j] is None]\n",
        "\n",
        "    def make_move(self, row, col):\n",
        "        if self.board[row][col] is None:\n",
        "            self.board[row][col] = self.current_player\n",
        "\n",
        "            self.current_plater = \"O\" if self.current_player == 'X' else 'X'\n",
        "\n",
        "        else:\n",
        "            raise ValueError(\"말을 놓을 수 없습니다.\")\n",
        "\n",
        "    def check_winner(self):\n",
        "        for i in range(3):\n",
        "            if self.board[i][0] == self.board[i][1] == self.board[i][2] and self.board[i][0] is not None:\n",
        "                return self.board[i][0]\n",
        "\n",
        "            if self.board[0][i] == self.board[1][i] == self.board[2][i] and self.board[0][i] is not None:\n",
        "                return self.board[i]\n",
        "\n",
        "        if self.board[0][0] == self.board[1][1] == self.board[2][2] and self.board[0][0] is not None:\n",
        "            return self.board[0][0]\n",
        "\n",
        "        if self.board[0][2] == self.board[1][1] == self[2][0] and self.board[0][2] is not None:\n",
        "            return self.board[0][2]\n",
        "\n",
        "        return None\n",
        "\n",
        "    def is_draw(self):\n",
        "        return all(cell is None for row in self.board for cell in row) and self.check_winner() is None\n",
        "\n",
        "    def is_game_over(self):\n",
        "        if self.check_winner() is not None:\n",
        "            return True\n",
        "        if self.is_draw():\n",
        "            return True\n",
        "\n",
        "        return False"
      ],
      "metadata": {
        "id": "8f-BR1Nsd0X4"
      },
      "execution_count": 2,
      "outputs": []
    },
    {
      "cell_type": "code",
      "source": [],
      "metadata": {
        "id": "WKIDvcT6xb5R"
      },
      "execution_count": null,
      "outputs": []
    }
  ]
}