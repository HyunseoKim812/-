{
  "nbformat": 4,
  "nbformat_minor": 0,
  "metadata": {
    "colab": {
      "provenance": []
    },
    "kernelspec": {
      "name": "python3",
      "display_name": "Python 3"
    },
    "language_info": {
      "name": "python"
    }
  },
  "cells": [
    {
      "cell_type": "markdown",
      "source": [
        "# State class\n",
        "틱택토 상태를 나타낼 수 있는 class를 만들어 주세요.\n",
        "\n",
        "- 2명의 플레이어가 있고, 각 플레이어의 수가 뭔지 식별가능해야 합니다.  \n",
        "\n",
        "**꼭 구현해야할 매소드(주니어/시니어 공통)**\n",
        "- 둘 수 있는 위치가 어딘지 알려주는 함수\n",
        "- win / lose / draw를 식별해주는 함수\n",
        "- render 함수\n",
        "\n",
        "**min-max algorithm / alpha-beta algorithm 구현(시니어)**\n",
        "\n",
        "### 🚨 만약 감이 안 온다면 운영진에게 연락주시면 참고할 만한 레퍼런스를 보내드리겠습니다.\n",
        "### 🚨 참고한 레퍼런스가 있다면, 출처를 남겨주세요."
      ],
      "metadata": {
        "id": "aOdETJG1a4Ok"
      }
    },
    {
      "cell_type": "code",
      "source": [
        "class TicTacToe:\n",
        "    def __init__(self):\n",
        "        self.board = [[0 for _ in range(3)] for _ in range(3)] # 3x3 보드, 0은 빈 공간을 의미함\n",
        "        self.current_player = 1  # 1번 플레이어부터 시작\n",
        "\n",
        "    def available_moves(self): #현재 보드에서 빈 공간을 반환\n",
        "        moves = [] #빈 공간 리스트\n",
        "        for i in range(3):\n",
        "            for j in range(3):\n",
        "                if self.board[i][j] == 0:  # 빈 공간이면 추가\n",
        "                    moves.append((i, j))\n",
        "        return moves\n",
        "\n",
        "    def make_move(self, position): #플레이어가 수를 두는 함수   #position: 사용자가 두고 싶은 위치를 (행, 열) 형태의 튜플로 받음\n",
        "        if self.board[position[0]][position[1]] == 0: #현재 보드에서 플레이어가 두려는 position이 빈 칸인지 확인하는 조건\n",
        "            self.board[position[0]][position[1]] = self.current_player #해당 위치에 플레이어의 수를 둠\n",
        "            self.current_player = 2 if self.current_player == 1 else 1  # 플레이어 변경 (현재 플레이어가 1번인 경우 2번으로 교체)\n",
        "        else: #플레이어가 이미 수를 둔 위치를 선택했을 경우 예외 발생\n",
        "            raise ValueError(\"이미 둔 위치입니다!\")\n",
        "\n",
        "    def check_winner(self): #승패 혹은 무승부를 확인하는 함수\n",
        "        # 가로, 세로, 대각선 체크\n",
        "        for i in range(3):\n",
        "            # 가로 승리\n",
        "            if self.board[i][0] == self.board[i][1] == self.board[i][2] != 0: #i번째 행에 있는 세 개의 칸(열 0, 1, 2)이 모두 같은 값, 그것도 0이 아닌 값인지 확인\n",
        "                return self.board[i][0] #해당 값을 반환하여 승리자 결정\n",
        "            # 세로 승리\n",
        "            if self.board[0][i] == self.board[1][i] == self.board[2][i] != 0: #i번째 열에 있는 세 개의 칸(행 0, 1, 2)이 모두 같은 값을, 그것도 0이 아닌 값인지 확인\n",
        "                return self.board[0][i] #해당 값을 반환하여 승리자 결정\n",
        "\n",
        "        # 대각선 승리\n",
        "        if self.board[0][0] == self.board[1][1] == self.board[2][2] != 0:\n",
        "            return self.board[0][0] #해당 값을 반환하여 승리자 결정\n",
        "        if self.board[0][2] == self.board[1][1] == self.board[2][0] != 0:\n",
        "            return self.board[0][2] #해당 값을 반환하여 승리자 결정\n",
        "\n",
        "        # 무승부 확인 (빈 칸이 없으면 무승부)\n",
        "        if not self.available_moves():\n",
        "            return \"Draw\"\n",
        "\n",
        "        # 아직 게임이 끝나지 않음\n",
        "        return None\n",
        "\n",
        "    def render(self): #현재 보드 상태를 시각적으로 출력하는 함수\n",
        "        symbols = {0: \".\", 1: \"X\", 2: \"O\"} #빈 칸은 .으로, 1번 플레이어는 X, 2번 플레이어는 O로 표시\n",
        "        for row in self.board:\n",
        "            print(\" \".join([symbols[cell] for cell in row])) #cell 값에 대응하는 기호로 변환하여 출력   #리스트에 있는 요소들을 문자열로 변환하여 공백 \" \"을 구분자로 결합!\n",
        "        print()"
      ],
      "metadata": {
        "id": "8f-BR1Nsd0X4"
      },
      "execution_count": null,
      "outputs": []
    },
    {
      "cell_type": "code",
      "source": [
        "# 사용 예시\n",
        "game = TicTacToe()\n",
        "\n",
        "# 초기 상태 출력\n",
        "game.render()\n",
        "\n",
        "# 플레이어가 수를 두고 상태 출력\n",
        "game.make_move((0, 0))\n",
        "game.render()\n",
        "\n",
        "game.make_move((1, 1))\n",
        "game.render()\n",
        "\n",
        "# 가능한 이동 위치 출력\n",
        "print(\"가능한 이동 위치:\", game.available_moves())\n",
        "\n",
        "# 승리 여부 확인\n",
        "winner = game.check_winner()\n",
        "if winner:\n",
        "    print(f\"승리자: {winner}\")\n",
        "else:\n",
        "    print(\"아직 승리자가 없습니다.\")"
      ],
      "metadata": {
        "colab": {
          "base_uri": "https://localhost:8080/"
        },
        "id": "tRsG9qCRd8lp",
        "outputId": "ccf1b83c-497a-4124-e10e-9dc077f028f0"
      },
      "execution_count": null,
      "outputs": [
        {
          "output_type": "stream",
          "name": "stdout",
          "text": [
            ". . .\n",
            ". . .\n",
            ". . .\n",
            "\n",
            "X . .\n",
            ". . .\n",
            ". . .\n",
            "\n",
            "X . .\n",
            ". O .\n",
            ". . .\n",
            "\n",
            "가능한 이동 위치: [(0, 1), (0, 2), (1, 0), (1, 2), (2, 0), (2, 1), (2, 2)]\n",
            "아직 승리자가 없습니다.\n"
          ]
        }
      ]
    }
  ]
}